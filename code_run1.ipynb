{
 "cells": [
  {
   "cell_type": "markdown",
   "id": "26cac262-3ed0-48f9-abd6-7731b4a49cb5",
   "metadata": {},
   "source": [
    "## Run 1: \n",
    "\n",
    "You should develop a simple k-nearest-neighbour classifier using the \"tiny image\" feature. The \"tiny image\" feature is one of the simplest possible image representations. One simply cropseach image to a square about the centre, and then resizes it to a small, fixed resolution (we recommend 16x16). The pixel values can be packed into a vector by concatenating each image row. It tends to work slightly better if the tiny image is made to have zero mean and unit length. You can choose the optimal k-value for the classifier."
   ]
  },
  {
   "cell_type": "markdown",
   "id": "e5af9e32-dee8-4cb8-81d1-0c1edeb81633",
   "metadata": {},
   "source": [
    "#### Importing the necessary libraries"
   ]
  },
  {
   "cell_type": "code",
   "execution_count": 1,
   "id": "9c89378b-2630-40aa-9029-e752225e1bc0",
   "metadata": {},
   "outputs": [],
   "source": [
    "# Import necessary libraries\n",
    "# Os- For interacting with the operating system\n",
    "import os\n",
    "# Numpy- For numerical operations\n",
    "import numpy as np\n",
    "# PIL Image- For handling images\n",
    "from PIL import Image\n",
    "# KNeighborsClassifier- For K-Nearest Neighbors classification\n",
    "from sklearn.neighbors import KNeighborsClassifier  "
   ]
  },
  {
   "cell_type": "markdown",
   "id": "b716123d-c3bb-4ce2-8b97-b1e5962d464b",
   "metadata": {},
   "source": [
    "#### Load images and labels, and perform training"
   ]
  },
  {
   "cell_type": "code",
   "execution_count": 2,
   "id": "21a3c9a7-89f8-4f64-bd1d-c6117d58bfad",
   "metadata": {},
   "outputs": [
    {
     "name": "stdout",
     "output_type": "stream",
     "text": [
      "Number of classes: 15\n",
      "Length of training data: 1500\n",
      "Accuracy on training data: 0.25266666666666665\n"
     ]
    }
   ],
   "source": [
    "# Function to load images and labels from a folder\n",
    "def load_images(folder):\n",
    "    # List to store image data and labels\n",
    "    images = [] \n",
    "    labels = []\n",
    "    # Iterate over each label in the folder\n",
    "    for label in os.listdir(folder):  \n",
    "        label_folder = os.path.join(folder, label)\n",
    "        # Check if it's a directory\n",
    "        if os.path.isdir(label_folder):  \n",
    "            # Iterate over each file in the label folder\n",
    "            for filename in os.listdir(label_folder): \n",
    "                # Check if it's a JPEG file\n",
    "                if filename.endswith('.jpg'):  \n",
    "                    # Open the image, convert to grayscale, resize to 16x16, and flatten\n",
    "                    img = Image.open(os.path.join(label_folder, filename)).convert('L')\n",
    "                    img = img.resize((16, 16))\n",
    "                    img = np.array(img).flatten()\n",
    "                    # Append the flattened image to the list\n",
    "                    images.append(img)  \n",
    "                    # Append the label to the list\n",
    "                    labels.append(label)  \n",
    "    # Convert lists to numpy arrays and return\n",
    "    return np.array(images), np.array(labels)  \n",
    "\n",
    "# Load training data\n",
    "train_images, train_labels = load_images(r'C:/Users/DELL/Downloads/Coursework3/Coursework3/training/training')\n",
    "\n",
    "# Calculate mean and standard deviation of training images\n",
    "train_mean = np.mean(train_images)\n",
    "train_std = np.std(train_images)\n",
    "\n",
    "# Normalize the training images\n",
    "train_images_normalized = (train_images - train_mean) / train_std\n",
    "\n",
    "# Determine the number of classes and length of training data\n",
    "num_classes = len(np.unique(train_labels))\n",
    "data_length = len(train_labels)\n",
    "print(\"Number of classes:\", num_classes)\n",
    "print(\"Length of training data:\", data_length)\n",
    "\n",
    "# Initialize k-nearest-neighbour classifier with k=15\n",
    "knn_classifier = KNeighborsClassifier(n_neighbors=15)\n",
    "\n",
    "# Train the classifier\n",
    "knn_classifier.fit(train_images_normalized, train_labels)\n",
    "\n",
    "# Compute accuracy on the training data\n",
    "train_accuracy = knn_classifier.score(train_images_normalized, train_labels)\n",
    "print(\"Accuracy on training data:\", train_accuracy)"
   ]
  },
  {
   "cell_type": "markdown",
   "id": "edd12c16-b34e-4d48-9aed-d24cace75e7a",
   "metadata": {},
   "source": [
    "#### Testing on unseen test data"
   ]
  },
  {
   "cell_type": "code",
   "execution_count": 3,
   "id": "828f7a07-6183-4ea9-b2fb-74059c1a8783",
   "metadata": {},
   "outputs": [
    {
     "name": "stdout",
     "output_type": "stream",
     "text": [
      "Number of test images: 2985\n",
      "Number of true labels: 2985\n"
     ]
    }
   ],
   "source": [
    "# Initialize empty lists to store test images, filenames, and true labels\n",
    "test_images = []  \n",
    "test_files = []  \n",
    "test_folder = r'C:/Users/DELL/Downloads/Coursework3/Coursework3/testing/testing'\n",
    "true_labels = []  \n",
    "\n",
    "# Loop through each file in the test folder\n",
    "for filename in os.listdir(test_folder):\n",
    "    # Open the image, convert to grayscale, resize to 16x16, and flatten\n",
    "    img = Image.open(os.path.join(test_folder, filename)).convert('L')\n",
    "    img = img.resize((16, 16))\n",
    "    img = np.array(img).flatten()\n",
    "    # Append the flattened image nd filename to the lists\n",
    "    test_images.append(img)  \n",
    "    test_files.append(filename)\n",
    "    \n",
    "    # Extract the true label from the filename\n",
    "    true_label = filename.split('.')[0]\n",
    "    # Append the true label to the list\n",
    "    true_labels.append(true_label) \n",
    "\n",
    "# Extract the true labels without the additional information\n",
    "true_labels = [label.split('_')[0] for label in true_labels]\n",
    "\n",
    "# Convert test images list to numpy array\n",
    "test_images = np.array(test_images)\n",
    "\n",
    "# Print the number of test images and true labels\n",
    "print(\"Number of test images:\", len(test_images))\n",
    "print(\"Number of true labels:\", len(true_labels))\n",
    "\n",
    "# Make predictions on test images using the trained KNN classifier\n",
    "predictions = knn_classifier.predict(test_images)"
   ]
  },
  {
   "cell_type": "markdown",
   "id": "76ea50a1-4389-4d0b-8c4c-7bbfea37b583",
   "metadata": {},
   "source": [
    "#### Writing the results in run1.txt file"
   ]
  },
  {
   "cell_type": "code",
   "execution_count": 4,
   "id": "2d327df1-0ce1-430b-a8cc-4a5220270eea",
   "metadata": {},
   "outputs": [],
   "source": [
    "# Open a file named 'run1.txt' in write mode\n",
    "with open('run1.txt', 'w') as file:\n",
    "    # Iterate through each test filename and corresponding prediction\n",
    "    for filename, prediction in zip(test_files, predictions):\n",
    "        # Write the filename and its corresponding prediction to the file\n",
    "        file.write(f\"{filename} {prediction}\\n\")"
   ]
  }
 ],
 "metadata": {
  "kernelspec": {
   "display_name": "Python 3 (ipykernel)",
   "language": "python",
   "name": "python3"
  },
  "language_info": {
   "codemirror_mode": {
    "name": "ipython",
    "version": 3
   },
   "file_extension": ".py",
   "mimetype": "text/x-python",
   "name": "python",
   "nbconvert_exporter": "python",
   "pygments_lexer": "ipython3",
   "version": "3.11.5"
  }
 },
 "nbformat": 4,
 "nbformat_minor": 5
}
